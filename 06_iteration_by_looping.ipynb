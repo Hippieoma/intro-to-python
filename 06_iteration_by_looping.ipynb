{
 "cells": [
  {
   "cell_type": "markdown",
   "metadata": {},
   "source": [
    "# Flow Control III: Iteration by Looping\n",
    "\n",
    "The `while` statement is an alternative way to run a code block repeatedly and control the flow of execution. Also, it is (often) easier to comprehend. However, it adds no new expressive power as compared to just using the `def` and `if` statements."
   ]
  },
  {
   "cell_type": "markdown",
   "metadata": {},
   "source": [
    "## The `while` Statement\n",
    "\n",
    "Whereas functions combined with `if` statements suffice to model any type of iteration, Python comes with a **compound while-statement** that consists of a header line with a boolean expression followed by an indented code block (= body). Before the first and after every execution of the code block, the boolean expression is evaluated and if equal to `True`, the code block runs (again). Eventually, some variable referenced in the boolean expression is changed in the code block such that the condition becomes `False`. If the condition is `False` before the first iteration, the entire code block is never executed. As the flow of control keeps looping back to the beginning of the code block, this concept is also called a **while-loop**."
   ]
  },
  {
   "cell_type": "markdown",
   "metadata": {},
   "source": [
    "#### Simple Example\n",
    "\n",
    "Let's rewrite the previous simple `countdown` example."
   ]
  },
  {
   "cell_type": "code",
   "execution_count": 1,
   "metadata": {},
   "outputs": [],
   "source": [
    "def countdown(n):\n",
    "    \"\"\"Print a countdown until the party starts.\n",
    "\n",
    "    Args:\n",
    "        n (int): Seconds until the party begins.\n",
    "    \"\"\"\n",
    "    while n > 0:\n",
    "        print(n)\n",
    "        n -= 1\n",
    "    # = base case\n",
    "    print(\"Happy new Year!\")"
   ]
  },
  {
   "cell_type": "code",
   "execution_count": 2,
   "metadata": {},
   "outputs": [
    {
     "name": "stdout",
     "output_type": "stream",
     "text": [
      "3\n",
      "2\n",
      "1\n",
      "Happy new Year!\n"
     ]
    }
   ],
   "source": [
    "countdown(3)"
   ]
  },
  {
   "cell_type": "markdown",
   "metadata": {},
   "source": [
    "As the stack diagram in [PythonTutor](http://pythontutor.com/visualize.html#code=def%20countdown%28n%29%3A%0A%20%20%20%20while%20n%20%3E%200%3A%0A%20%20%20%20%20%20%20%20print%28n%29%0A%20%20%20%20%20%20%20%20n%20%3D%20n%20-%201%0A%20%20%20%20print%28%22Happy%20new%20Year!%22%29%0A%0Acountdown%283%29&cumulative=false&curInstr=0&heapPrimitives=nevernest&mode=display&origin=opt-frontend.js&py=3&rawInputLstJSON=%5B%5D&textReferences=false) shows, there is a subtle difference in the way a `while` statement is treated in memory. In short, `while` statements can not run into a `RecursionError`. In common day-to-day applications this difference is, however, not important."
   ]
  },
  {
   "cell_type": "markdown",
   "metadata": {},
   "source": [
    "#### Example: [Euclid's Algorithm](https://en.wikipedia.org/wiki/Euclidean_algorithm)\n",
    "\n",
    "Finding the greatest common divisor of two numbers is not so obvious when using a `while` loop."
   ]
  },
  {
   "cell_type": "code",
   "execution_count": 3,
   "metadata": {},
   "outputs": [],
   "source": [
    "def gcd(a, b):\n",
    "    \"\"\"Calculate the greatest common divisor of two numbers.\n",
    "\n",
    "    Args:\n",
    "        a (int): First number.\n",
    "        b (int): Second number.\n",
    "\n",
    "    Returns:\n",
    "        int\n",
    "    \"\"\"\n",
    "    while a != b:\n",
    "        if a > b:\n",
    "           a -= b\n",
    "        else:\n",
    "           b -= a\n",
    "    return a"
   ]
  },
  {
   "cell_type": "code",
   "execution_count": 4,
   "metadata": {},
   "outputs": [
    {
     "data": {
      "text/plain": [
       "4"
      ]
     },
     "execution_count": 4,
     "metadata": {},
     "output_type": "execute_result"
    }
   ],
   "source": [
    "gcd(12, 4)"
   ]
  },
  {
   "cell_type": "markdown",
   "metadata": {},
   "source": [
    "We can also see that this implementation seems *less efficient* than its recursive counterpart."
   ]
  },
  {
   "cell_type": "code",
   "execution_count": 5,
   "metadata": {},
   "outputs": [
    {
     "name": "stdout",
     "output_type": "stream",
     "text": [
      "1.1 s ± 0 ns per loop (mean ± std. dev. of 1 run, 1 loop each)\n"
     ]
    }
   ],
   "source": [
    "%%timeit -n 1 -r 1\n",
    "gcd(123456789, 987654321)"
   ]
  },
  {
   "cell_type": "markdown",
   "metadata": {},
   "source": [
    "## Infinite Loops\n",
    "\n",
    "As with recursion, we must ensure that the iteration process ends. For the above `countdown` example this is trivially true as we start with an arbitrary number that gets decremented by $1$ until it is not positive any more."
   ]
  },
  {
   "cell_type": "markdown",
   "metadata": {},
   "source": [
    "#### Example: [Collatz Conjecture](https://en.wikipedia.org/wiki/Collatz_conjecture)\n",
    "\n",
    "Does the function below terminate for every $n$? Does it always reach $1$? No one has proven it so far!"
   ]
  },
  {
   "cell_type": "code",
   "execution_count": 6,
   "metadata": {},
   "outputs": [],
   "source": [
    "def collatz(n):\n",
    "    \"\"\"Print a Collatz sequence in descending order.\n",
    "\n",
    "    Start with any positive integer n.\n",
    "    Then each term is obtained from the previous term as follows:\n",
    "        - if the previous term is even,\n",
    "          the next term is half the previous term\n",
    "        - if the previous term is odd,\n",
    "          the next term is 3 times the previous term plus 1\n",
    "    The conjecture is that no matter what is the value of n,\n",
    "    the sequence will always reach 1.\n",
    "\n",
    "    Args:\n",
    "        n (int): A positive number to start the Collatz sequence at.\n",
    "    \"\"\"\n",
    "    while n != 1:\n",
    "        print(n, end=\" \")\n",
    "        # n is even\n",
    "        if n % 2 == 0:\n",
    "            n = n // 2  # // used so that n remains an integer (vs. a float)\n",
    "        # n is odd\n",
    "        else:\n",
    "            n = 3 * n + 1\n",
    "    print(n)"
   ]
  },
  {
   "cell_type": "code",
   "execution_count": 7,
   "metadata": {},
   "outputs": [
    {
     "name": "stdout",
     "output_type": "stream",
     "text": [
      "100 50 25 76 38 19 58 29 88 44 22 11 34 17 52 26 13 40 20 10 5 16 8 4 2 1\n"
     ]
    }
   ],
   "source": [
    "collatz(100)"
   ]
  },
  {
   "cell_type": "markdown",
   "metadata": {},
   "source": [
    "## The `for` Statement\n",
    "\n",
    "Python provides a shortcut for the following very common pattern where a temporary \"index\" variable $i$ needs to be kept track of. The `for` statement loops over a sequence of objects. The `for` statement is really only what is called **syntactic sugar**, i.e., something that adds no new functionality but conveniently replaces a \"tedious\" pattern."
   ]
  },
  {
   "cell_type": "code",
   "execution_count": 8,
   "metadata": {},
   "outputs": [
    {
     "name": "stdout",
     "output_type": "stream",
     "text": [
      "0 1 2 3 4 5 6 7 8 9 "
     ]
    }
   ],
   "source": [
    "i = 0\n",
    "while i < 10:\n",
    "    print(i, end=\" \")\n",
    "    i += 1"
   ]
  },
  {
   "cell_type": "markdown",
   "metadata": {},
   "source": [
    "For sequences of integers the built-in function [range()](https://docs.python.org/3/library/functions.html#func-range) is useful: It creates a \"list\"-like object (just like `numbers` or `one_to_ten` in previous notebooks). At the beginning of each loop iteration the variable `i` is assigned to the next object in the list."
   ]
  },
  {
   "cell_type": "code",
   "execution_count": 9,
   "metadata": {},
   "outputs": [
    {
     "name": "stdout",
     "output_type": "stream",
     "text": [
      "0 1 2 3 4 5 6 7 8 9 "
     ]
    }
   ],
   "source": [
    "for i in range(10):\n",
    "    print(i, end=\" \")"
   ]
  },
  {
   "cell_type": "markdown",
   "metadata": {},
   "source": [
    "As we have seen before, looping works naturally on \"container\"-like objects like lists."
   ]
  },
  {
   "cell_type": "code",
   "execution_count": 10,
   "metadata": {},
   "outputs": [],
   "source": [
    "german_names = [\"Achim\", \"Berthold\", \"Carl\", \"Diedrich\", \"Eckardt\"]"
   ]
  },
  {
   "cell_type": "markdown",
   "metadata": {},
   "source": [
    "`name` is assigned the elements of the list `german_names` one by one in the same order as they occur in the list itself."
   ]
  },
  {
   "cell_type": "code",
   "execution_count": 11,
   "metadata": {},
   "outputs": [
    {
     "name": "stdout",
     "output_type": "stream",
     "text": [
      "Achim  Berthold  Carl  Diedrich  Eckardt  "
     ]
    }
   ],
   "source": [
    "for name in german_names:\n",
    "    print(name, end=\"  \")"
   ]
  },
  {
   "cell_type": "markdown",
   "metadata": {},
   "source": [
    "If we need to have an index variable in the loop's body, we can use the built-in function [enumerate()](https://docs.python.org/3/library/functions.html#enumerate)."
   ]
  },
  {
   "cell_type": "code",
   "execution_count": 12,
   "metadata": {},
   "outputs": [
    {
     "name": "stdout",
     "output_type": "stream",
     "text": [
      "0 > Achim  1 > Berthold  2 > Carl  3 > Diedrich  4 > Eckardt  "
     ]
    }
   ],
   "source": [
    "for i, name in enumerate(german_names):\n",
    "    print(i, name, sep=\" > \", end=\"  \")"
   ]
  },
  {
   "cell_type": "markdown",
   "metadata": {},
   "source": [
    "#### Example: [Fibonacci Numbers](https://en.wikipedia.org/wiki/Fibonacci_number)\n",
    "\n",
    "One advantage of calculating the Fibonacci numbers with a `for` statement is that we could list the entire sequence in ascending order. Note that we do not even need the index variable in the `for` loop (that is what the underscore \"\\_\" indicates)."
   ]
  },
  {
   "cell_type": "code",
   "execution_count": 13,
   "metadata": {},
   "outputs": [],
   "source": [
    "def fibonacci(i):\n",
    "    \"\"\"Calculate the ith Fibonacci number.\n",
    "\n",
    "    Args:\n",
    "        i (int): index of the Fibonacci number to calculate.\n",
    "\n",
    "    Returns:\n",
    "        int\n",
    "    \"\"\"\n",
    "    a, b = 0, 1\n",
    "    for _ in range(i):  # a underscore \"_\" indicates that we do not need the loop's index variable\n",
    "        print(a, end=\" \")  # line added only for didactical purposes\n",
    "        temp = a + b\n",
    "        a = b\n",
    "        b = temp\n",
    "    print(a, end=\" \")  # line added only for didactical purposes\n",
    "    return a"
   ]
  },
  {
   "cell_type": "code",
   "execution_count": 14,
   "metadata": {},
   "outputs": [
    {
     "name": "stdout",
     "output_type": "stream",
     "text": [
      "0 1 1 2 3 5 8 13 21 34 55 89 144 "
     ]
    },
    {
     "data": {
      "text/plain": [
       "144"
      ]
     },
     "execution_count": 14,
     "metadata": {},
     "output_type": "execute_result"
    }
   ],
   "source": [
    "fibonacci(12)  # = 13th number"
   ]
  },
  {
   "cell_type": "markdown",
   "metadata": {},
   "source": [
    "Another more important advantage is that we can calculate even big Fibonacci numbers *very efficiently*."
   ]
  },
  {
   "cell_type": "code",
   "execution_count": 15,
   "metadata": {},
   "outputs": [
    {
     "name": "stdout",
     "output_type": "stream",
     "text": [
      "0 1 1 2 3 5 8 13 21 34 55 89 144 233 377 610 987 1597 2584 4181 6765 10946 17711 28657 46368 75025 121393 196418 317811 514229 832040 1346269 2178309 3524578 5702887 9227465 14930352 24157817 39088169 63245986 102334155 165580141 267914296 433494437 701408733 1134903170 1836311903 2971215073 4807526976 7778742049 12586269025 20365011074 32951280099 53316291173 86267571272 139583862445 225851433717 365435296162 591286729879 956722026041 1548008755920 2504730781961 4052739537881 6557470319842 10610209857723 17167680177565 27777890035288 44945570212853 72723460248141 117669030460994 190392490709135 308061521170129 498454011879264 806515533049393 1304969544928657 2111485077978050 3416454622906707 5527939700884757 8944394323791464 14472334024676221 23416728348467685 37889062373143906 61305790721611591 99194853094755497 160500643816367088 259695496911122585 420196140727489673 679891637638612258 1100087778366101931 1779979416004714189 2880067194370816120 4660046610375530309 7540113804746346429 12200160415121876738 19740274219868223167 31940434634990099905 51680708854858323072 83621143489848422977 135301852344706746049 218922995834555169026 354224848179261915075 "
     ]
    },
    {
     "data": {
      "text/plain": [
       "354224848179261915075"
      ]
     },
     "execution_count": 15,
     "metadata": {},
     "output_type": "execute_result"
    }
   ],
   "source": [
    "fibonacci(100)"
   ]
  },
  {
   "cell_type": "markdown",
   "metadata": {},
   "source": [
    "#### Example: [Factorial](https://en.wikipedia.org/wiki/Factorial)\n",
    "\n",
    "One advantage of calculating the factorial with a `for` statement is that we could track the intermediate result as it \"grows\" (note that the [range()](https://docs.python.org/3/library/functions.html#func-range) function takes optional *start* and *step* arguments)."
   ]
  },
  {
   "cell_type": "code",
   "execution_count": 16,
   "metadata": {},
   "outputs": [],
   "source": [
    "def factorial(n):\n",
    "    \"\"\"Calculate the factorial of a number.\n",
    "\n",
    "    Args:\n",
    "        n (int): Number to calculate the factorial of, must be positive.\n",
    "\n",
    "    Returns:\n",
    "        int\n",
    "\n",
    "    Raises:\n",
    "        TypeError: If n is not an integer type\n",
    "        ValueError: If n is negative\n",
    "    \"\"\"\n",
    "    if not isinstance(n, int):\n",
    "        raise TypeError(\"Factorial is only defined for integers.\")\n",
    "    elif n < 0:\n",
    "        raise ValueError(\"Factorial is not defined for negative integers.\")\n",
    "    result = 1  # because 0! = 1\n",
    "    for i in range(1, n + 1):  # loop starts at 1 as 0! is already covered\n",
    "        result = result * i\n",
    "        print(result, end=\" \")  # line added only for didactical purposes\n",
    "    return result"
   ]
  },
  {
   "cell_type": "code",
   "execution_count": 17,
   "metadata": {},
   "outputs": [
    {
     "name": "stdout",
     "output_type": "stream",
     "text": [
      "1 2 6 24 120 720 5040 40320 362880 3628800 "
     ]
    },
    {
     "data": {
      "text/plain": [
       "3628800"
      ]
     },
     "execution_count": 17,
     "metadata": {},
     "output_type": "execute_result"
    }
   ],
   "source": [
    "factorial(10)"
   ]
  }
 ],
 "metadata": {
  "kernelspec": {
   "display_name": "Python 3",
   "language": "python",
   "name": "python3"
  },
  "language_info": {
   "codemirror_mode": {
    "name": "ipython",
    "version": 3
   },
   "file_extension": ".py",
   "mimetype": "text/x-python",
   "name": "python",
   "nbconvert_exporter": "python",
   "pygments_lexer": "ipython3",
   "version": "3.6.6"
  }
 },
 "nbformat": 4,
 "nbformat_minor": 2
}
