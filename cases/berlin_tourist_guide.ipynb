{
 "cells": [
  {
   "cell_type": "markdown",
   "metadata": {},
   "source": [
    "# Berlin Tourist Guide\n",
    "\n",
    "This notebook is a tutorial as to how to load data from web services and do useful things with it."
   ]
  },
  {
   "cell_type": "markdown",
   "metadata": {},
   "source": [
    "Imagine that a tourist lands at Berlin's [Tegel Airport](https://en.wikipedia.org/wiki/Berlin_Tegel_Airport) in the morning and has his \"connecting\" flight from [Schönefeld Airport](https://en.wikipedia.org/wiki/Berlin_Sch%C3%B6nefeld_Airport) in the evening. Sounds weird? His airline thought that there would be a single airport by the time it scheduled the connection.\n",
    "\n",
    "Having never been in Berlin before and with less than a day available, we are asked to come up with a plan of sights that the tourist can visit with a car rented from a car-sharing service on his way from Tegel to Schönefeld.\n",
    "\n",
    "After short discussion, we agree on the `sights` list below."
   ]
  },
  {
   "cell_type": "code",
   "execution_count": null,
   "metadata": {},
   "outputs": [],
   "source": [
    "arrival = \"Berlin Tegel Airport (TXL), Berlin\"\n",
    "\n",
    "sights = [\n",
    "    \"Alexanderplatz, Berlin\",\n",
    "    \"Brandenburger Tor, Pariser Platz, Berlin\",\n",
    "    \"Checkpoint Charlie, Friedrichstraße, Berlin\",\n",
    "    \"Kottbusser Tor, Berlin\",\n",
    "    \"Mauerpark, Berlin\",\n",
    "    \"Siegessäule, Berlin\",\n",
    "    \"Reichstag, Platz der Republik, Berlin\",\n",
    "    \"Soho House Berlin, Torstraße, Berlin\",\n",
    "    \"Tempelhofer Feld, Berlin\",\n",
    "]\n",
    "\n",
    "departure = \"Berlin Schönefeld Airport (SXF), Berlin\""
   ]
  },
  {
   "cell_type": "markdown",
   "metadata": {},
   "source": [
    "With just the street addresses, however, we cannot find a shortest route. We need $(lat,lon)$ coordinates instead. While we could just open a site like [Google Maps](https://www.google.com/maps) in a web browser, we really don't want to have to copy & paste the coordinates by hand and decide to use a [web API](https://en.wikipedia.org/wiki/Web_API) offered by [Google](https://www.google.com)."
   ]
  },
  {
   "cell_type": "markdown",
   "metadata": {},
   "source": [
    "## Geocoding\n",
    "\n",
    "In order to obtain coordinates for the given street addresses above, a process called **geocoding**, we will use the [Google Maps API](https://developers.google.com/maps/documentation/geocoding/start).\n",
    "\n",
    "First, read this [documentation](https://developers.google.com/maps/documentation/geocoding/start), register a developer account, and create an API key that is necessary for everything to work (Google just wants to know the people using its services).\n",
    "\n",
    "Then, assign the API key as a text string to the `key` variable below. The first 100,000 requests per day are for free, so no costs will incur for this case study!"
   ]
  },
  {
   "cell_type": "code",
   "execution_count": null,
   "metadata": {},
   "outputs": [],
   "source": [
    "key = \"paste_your_key_here\""
   ]
  },
  {
   "cell_type": "markdown",
   "metadata": {},
   "source": [
    "To use external web services, our application needs to make HTTP requests just like our web browser does when surfing the internet.\n",
    "\n",
    "Luckily, we do not have to implement this on our own. Instead, we will use the official Python Client for the Google Maps Services provided by Google in one of its corporate [GitHub repositories](https://github.com/googlemaps/google-maps-services-python). Go there and read the short documentation. Then, install the third-party library *googlemaps* with the `pip` command line tool."
   ]
  },
  {
   "cell_type": "code",
   "execution_count": null,
   "metadata": {},
   "outputs": [],
   "source": [
    "! pip install googlemaps"
   ]
  },
  {
   "cell_type": "markdown",
   "metadata": {},
   "source": [
    "Let's instantiate a client object that provides us with a lot of methods to talk to the API."
   ]
  },
  {
   "cell_type": "code",
   "execution_count": null,
   "metadata": {},
   "outputs": [],
   "source": [
    "import googlemaps"
   ]
  },
  {
   "cell_type": "code",
   "execution_count": null,
   "metadata": {},
   "outputs": [],
   "source": [
    "api = googlemaps.Client(key=key)"
   ]
  },
  {
   "cell_type": "code",
   "execution_count": null,
   "metadata": {},
   "outputs": [],
   "source": [
    "api"
   ]
  },
  {
   "cell_type": "markdown",
   "metadata": {},
   "source": [
    "Let's look at some of the object's methods and attributes."
   ]
  },
  {
   "cell_type": "code",
   "execution_count": null,
   "metadata": {},
   "outputs": [],
   "source": [
    "[x for x in dir(api) if not x.startswith(\"_\")]"
   ]
  },
  {
   "cell_type": "markdown",
   "metadata": {},
   "source": [
    "To ask for all kinds of data associated with a street address, we just call the `geocode()` method with the address as the sole argument.\n",
    "\n",
    "For example, let's search for Brandenburg Gate.\n",
    "\n",
    "We receive a list with a single dictionary in it implying only one known \"place\" at the address. Unfortunately, the dictionary is pretty dense and hard to read."
   ]
  },
  {
   "cell_type": "code",
   "execution_count": null,
   "metadata": {},
   "outputs": [],
   "source": [
    "api.geocode(\"Brandenburger Tor, Pariser Platz, Berlin\")"
   ]
  },
  {
   "cell_type": "markdown",
   "metadata": {},
   "source": [
    "Let's capture the first search result in the response in a variable `brandenburg_gate` and \"pretty print\" it with the help of the [pprint()](https://docs.python.org/3/library/pprint.html#pprint.pprint) function in the [pprint](https://docs.python.org/3/library/pprint.html) module in the Standard Library."
   ]
  },
  {
   "cell_type": "code",
   "execution_count": null,
   "metadata": {},
   "outputs": [],
   "source": [
    "from pprint import pprint"
   ]
  },
  {
   "cell_type": "code",
   "execution_count": null,
   "metadata": {},
   "outputs": [],
   "source": [
    "response = api.geocode(\"Brandenburger Tor, Pariser Platz, Berlin\")"
   ]
  },
  {
   "cell_type": "code",
   "execution_count": null,
   "metadata": {},
   "outputs": [],
   "source": [
    "brandenburg_gate = response[0]"
   ]
  },
  {
   "cell_type": "markdown",
   "metadata": {},
   "source": [
    "The dictionary has several keys that are of use for us. *formatted_address* is a cleanly formatted version of the address, such as you enter into a car's onboard navigation system. *geometry* is a nested dictionary with several coordinates representing the place where *location* is the one we need for our calculations. Lastly, *place_id* is a unique identifier that allows us to obtain further information about the address from other APIs by Google."
   ]
  },
  {
   "cell_type": "code",
   "execution_count": null,
   "metadata": {},
   "outputs": [],
   "source": [
    "pprint(brandenburg_gate)"
   ]
  },
  {
   "cell_type": "markdown",
   "metadata": {},
   "source": [
    "## The Place Class\n",
    "\n",
    "To keep our code readable and maintainable, we will create a `Place` class to manage the API results in a clean way.\n",
    "\n",
    "The `__init__()` method takes the initial `street_address` as its argument and stores it on `self` after parsing the place's name out of it (the part before the first comma). Also, the instance attributes `latitude`, `longitude`, and `place_id` are initialized to `None`.\n",
    "\n",
    "The `sync_from_google()` method takes as its `client` argument a reference to a client instance from the *googlemaps* library that has access to the API via a valid key and synchronizes the place's data with Google Maps. In particular, it updates the `address` with the formatted version and stores the values for `latitude`, `longitude`, and `place_id`. It simply returns `self` to enable method chaining.\n",
    "\n",
    "Also, let us put a read-only `location` property on the class that returns the `latitude` and `longitude` as a tuple."
   ]
  },
  {
   "cell_type": "code",
   "execution_count": null,
   "metadata": {},
   "outputs": [],
   "source": [
    "class Place:\n",
    "    \"\"\"A place with a connection to a Google Maps API search result.\"\"\"\n",
    "\n",
    "    def __init__(self, street_address):\n",
    "        \"\"\"Create a new place object.\n",
    "\n",
    "        Args:\n",
    "            address (str): street address of the place\n",
    "        \"\"\"\n",
    "        self.name = ...  # extract the name part out of the street_address\n",
    "        self.address = ...\n",
    "        self.latitude = ...\n",
    "        self.longitude = ...\n",
    "        self.place_id = ...\n",
    "\n",
    "    def __repr__(self):\n",
    "        if self.place_id:\n",
    "            return \"<{}({!r})>\".format(self.__class__.__name__, self.name)\n",
    "        return \"{}({!r})\".format(self.__class__.__name__, self.address)\n",
    "\n",
    "    def sync_from_google(self, client):\n",
    "        \"\"\"Obtain the coordinates, clean address, and ID for a place object from Google.\n",
    "\n",
    "        Args:\n",
    "            client (googlemaps.client.Client): access to the Google Maps API\n",
    "        \"\"\"\n",
    "        response = ...  # make an API call here\n",
    "        first_hit = ...\n",
    "        self.address = ...\n",
    "        self.latitude = ...  # reach deep into the nested dictionary if necessary\n",
    "        self.longitude = ...\n",
    "        self.place_id = ...\n",
    "        ....\n",
    "\n",
    "    @property\n",
    "    def location(self):\n",
    "        return ..."
   ]
  },
  {
   "cell_type": "markdown",
   "metadata": {},
   "source": [
    "Let's try out our new class."
   ]
  },
  {
   "cell_type": "code",
   "execution_count": null,
   "metadata": {},
   "outputs": [],
   "source": [
    "brandenburg_gate = Place(\"Brandenburger Tor, Pariser Platz, Berlin\")"
   ]
  },
  {
   "cell_type": "code",
   "execution_count": null,
   "metadata": {},
   "outputs": [],
   "source": [
    "brandenburg_gate"
   ]
  },
  {
   "cell_type": "markdown",
   "metadata": {},
   "source": [
    "Now we can obtain the geo-data from Google in a clean way. As we enabled method chaining for `sync_from_google()`, we get back the instance after calling the method.\n",
    "\n",
    "The angle brackets \"<\" and \">\" around the string representation indicate that we cannot type the string back into a code cell and get the same state back. This is because after synchronization with Google Maps, the `brandenburg_gate` object has some attributes set that we cannot know without asking Google. We could have put the attributes from Google as optional arguments into the `__init__()` method but do not do this for convenience."
   ]
  },
  {
   "cell_type": "code",
   "execution_count": null,
   "metadata": {},
   "outputs": [],
   "source": [
    "brandenburg_gate.sync_from_google(api)"
   ]
  },
  {
   "cell_type": "code",
   "execution_count": null,
   "metadata": {},
   "outputs": [],
   "source": [
    "brandenburg_gate"
   ]
  },
  {
   "cell_type": "code",
   "execution_count": null,
   "metadata": {},
   "outputs": [],
   "source": [
    "brandenburg_gate.address"
   ]
  },
  {
   "cell_type": "code",
   "execution_count": null,
   "metadata": {},
   "outputs": [],
   "source": [
    "brandenburg_gate.place_id"
   ]
  },
  {
   "cell_type": "code",
   "execution_count": null,
   "metadata": {},
   "outputs": [],
   "source": [
    "brandenburg_gate.location"
   ]
  },
  {
   "cell_type": "markdown",
   "metadata": {},
   "source": [
    "### The Place Class revisited: Batch  Synchronization with the Google Maps API\n",
    "\n",
    "Let us add a class method `from_addresses()` that takes a mandatory argument `addresses` that is a list of strings and an optional argument `client` (defaulting to `None`) and returns a list of `Place` instances, one for each string. If `client` is provided, the place instances are synchronized with Google right away."
   ]
  },
  {
   "cell_type": "code",
   "execution_count": null,
   "metadata": {},
   "outputs": [],
   "source": [
    "class Place:\n",
    "    \"\"\"A place with a connection to a Google Maps API search result.\"\"\"\n",
    "\n",
    "    def __init__(self, street_address):\n",
    "        ...\n",
    "\n",
    "    def __repr__(self):\n",
    "        ...\n",
    "\n",
    "    def sync_from_google(self, client):\n",
    "        ...\n",
    "\n",
    "    @property\n",
    "    def location(self):\n",
    "        ...\n",
    "\n",
    "    @classmethod\n",
    "    def from_addresses(cls, addresses, client=None):\n",
    "        \"\"\"Create new place objects.\n",
    "\n",
    "        Args:\n",
    "            addresses (list of strings): a list of street address of the places\n",
    "            client (googlemaps.client.Client): access to the Google Maps API;\n",
    "                if provided, sync the places with Google before returning;\n",
    "                defaults to None\n",
    "        Returns:\n",
    "            list(Place)\n",
    "        \"\"\"\n",
    "        places = ...  # initialize a data structure to collect intermediate objects\n",
    "        for ... in ...:\n",
    "            place = ...\n",
    "            if client:\n",
    "                ...  # sync with Google\n",
    "            places.append(...)\n",
    "        ..."
   ]
  },
  {
   "cell_type": "markdown",
   "metadata": {},
   "source": [
    "Let's try out the alternative constructor for both cases, with and without `client` provided."
   ]
  },
  {
   "cell_type": "code",
   "execution_count": null,
   "metadata": {},
   "outputs": [],
   "source": [
    "Place.from_addresses(sights)"
   ]
  },
  {
   "cell_type": "code",
   "execution_count": null,
   "metadata": {},
   "outputs": [],
   "source": [
    "Place.from_addresses(sights, client=api)"
   ]
  },
  {
   "cell_type": "markdown",
   "metadata": {},
   "source": [
    "## Visualizations\n",
    "\n",
    "For geo-data it always makes sense to plot them on a map. We use the third-party library *folium* to achieve that. Go to the [GitHub repository](https://github.com/python-visualization/folium) and read how the library works. Then, install it with the `pip` command line tool."
   ]
  },
  {
   "cell_type": "code",
   "execution_count": null,
   "metadata": {},
   "outputs": [],
   "source": [
    "! pip install folium"
   ]
  },
  {
   "cell_type": "markdown",
   "metadata": {},
   "source": [
    "Let's create an empty map of Berlin."
   ]
  },
  {
   "cell_type": "code",
   "execution_count": null,
   "metadata": {},
   "outputs": [],
   "source": [
    "import folium"
   ]
  },
  {
   "cell_type": "code",
   "execution_count": null,
   "metadata": {},
   "outputs": [],
   "source": [
    "berlin = folium.Map(location=(52.513186, 13.3944349), zoom_start=14)"
   ]
  },
  {
   "cell_type": "markdown",
   "metadata": {},
   "source": [
    "`folium.Map` instances are shown as interactive maps in Jupyter notebooks whenever they are the last expression in a code cell."
   ]
  },
  {
   "cell_type": "code",
   "execution_count": null,
   "metadata": {},
   "outputs": [],
   "source": [
    "berlin"
   ]
  },
  {
   "cell_type": "markdown",
   "metadata": {},
   "source": [
    "In order to put something on the map, folium works with so-called `Marker` objects. Review its docstring and then we create a marker `m` with the location data of Brandenburg Gate. Note that we use HTML tags for the `popup` argument to format the output in the map in a nicer way."
   ]
  },
  {
   "cell_type": "code",
   "execution_count": null,
   "metadata": {},
   "outputs": [],
   "source": [
    "folium.Marker?"
   ]
  },
  {
   "cell_type": "code",
   "execution_count": null,
   "metadata": {},
   "outputs": [],
   "source": [
    "m = folium.Marker(\n",
    "    location=brandenburg_gate.location,\n",
    "    popup=\"<b>{}</b><br/>({})\".format(brandenburg_gate.name, brandenburg_gate.address),\n",
    "    tooltip=brandenburg_gate.name,\n",
    ")"
   ]
  },
  {
   "cell_type": "markdown",
   "metadata": {},
   "source": [
    "Now we put the marker on the map with its `add_to()` method."
   ]
  },
  {
   "cell_type": "code",
   "execution_count": null,
   "metadata": {},
   "outputs": [],
   "source": [
    "m.add_to(berlin)"
   ]
  },
  {
   "cell_type": "code",
   "execution_count": null,
   "metadata": {},
   "outputs": [],
   "source": [
    "berlin"
   ]
  },
  {
   "cell_type": "markdown",
   "metadata": {},
   "source": [
    "### The Place Class revisited: Marker Representation\n",
    "\n",
    "We implement a `as_marker()` method that returns a `Marker` instance when called on a `Place` instance. The method takes an optional `color` argument that uses folium's `Icon` type to control the color of the marker."
   ]
  },
  {
   "cell_type": "code",
   "execution_count": null,
   "metadata": {},
   "outputs": [],
   "source": [
    "class Place:\n",
    "    \"\"\"A place with a connection to a Google Maps API search result.\"\"\"\n",
    "\n",
    "    def __init__(self, street_address):\n",
    "        ...\n",
    "\n",
    "    def __repr__(self):\n",
    "        ...\n",
    "\n",
    "    def sync_from_google(self, client):\n",
    "        ...\n",
    "\n",
    "    @property\n",
    "    def location(self):\n",
    "        ...\n",
    "\n",
    "    @classmethod\n",
    "    def from_addresses(cls, addresses, client=None):\n",
    "        ...\n",
    "\n",
    "    def as_marker(self, color=\"blue\"):\n",
    "        \"\"\"Create a folium Marker representation of the place.\n",
    "\n",
    "        Args:\n",
    "            color (str): color of the marker, defaults to \"blue\"\n",
    "        Returns:\n",
    "            folium.Marker\n",
    "        Raises:\n",
    "            RuntimeError: if the place is not yet synchronized with Google\n",
    "        \"\"\"\n",
    "        if not self.place_id:\n",
    "            raise RuntimeError(\"Must synchronize with Google first!\")\n",
    "        return folium.Marker(\n",
    "            location=...,\n",
    "            popup=...,\n",
    "            tooltip=...,\n",
    "            icon=folium.Icon(color=color)\n",
    "        )"
   ]
  },
  {
   "cell_type": "markdown",
   "metadata": {},
   "source": [
    "We create a new `Place` instance and convert it into a `folium.Marker` object."
   ]
  },
  {
   "cell_type": "code",
   "execution_count": null,
   "metadata": {},
   "outputs": [],
   "source": [
    "brandenburg_gate = Place(\"Brandenburger Tor, Pariser Platz, Berlin\")"
   ]
  },
  {
   "cell_type": "markdown",
   "metadata": {},
   "source": [
    "Note that we need the location data from Google first to create a marker. Without synchronization, we get a `RuntimeError`."
   ]
  },
  {
   "cell_type": "code",
   "execution_count": null,
   "metadata": {},
   "outputs": [],
   "source": [
    "brandenburg_gate.as_marker()"
   ]
  },
  {
   "cell_type": "markdown",
   "metadata": {},
   "source": [
    "Observe the elegant use of method chaining again."
   ]
  },
  {
   "cell_type": "code",
   "execution_count": null,
   "metadata": {},
   "outputs": [],
   "source": [
    "brandenburg_gate.sync_from_google(api).as_marker()"
   ]
  },
  {
   "cell_type": "markdown",
   "metadata": {},
   "source": [
    "To make use of the new functionality further below, we need to re-instantiate the `Place` instances again."
   ]
  },
  {
   "cell_type": "code",
   "execution_count": null,
   "metadata": {},
   "outputs": [],
   "source": [
    "places = Place.from_addresses(sights, client=api)"
   ]
  },
  {
   "cell_type": "code",
   "execution_count": null,
   "metadata": {},
   "outputs": [],
   "source": [
    "places"
   ]
  },
  {
   "cell_type": "markdown",
   "metadata": {},
   "source": [
    "### The Map Class\n",
    "\n",
    "To make folium's `Map` class work even better with our `Place` instances, we write our own `Map` class wrapping folium's. This is an example of the so-called [adapter pattern](https://en.wikipedia.org/wiki/Adapter_pattern) in software engineering. We also add further functionality to the class throughout this tutorial.\n",
    "\n",
    "The `__init__()` method takes mandatory `name`, `center`, `start`, `end`, and `places` arguments. `name` is just there for convenience, `center` is used as the map's initial center, `start` and `end` are `Place` instances, and `places` is a list of `Place` instances. Also, it accepts an optional `initial_zoom` argument. The method creates a `folium.Map` instance that is stored as an \"implementation detail\" on the instance variable `_map`. Also, to design `Map` as an immutable type, we store all passed in arguments on hidden variables. Lastly, `__init__()` puts markers for each place on the `_map` object (\"green\" and \"red\" for the `start` and `end` locations, and \"blue\" for the places to be visited).\n",
    "\n",
    "The `add_marker()` instance method allows to put arbitrary markers on the map and is also used internally by the `__init__()` method. We also build method chaining into it.\n",
    "\n",
    "To maintain the automatic rendering of folium's maps in Jupyter notebooks, we simply return the hidden `_map` variable in the `show()` method."
   ]
  },
  {
   "cell_type": "code",
   "execution_count": null,
   "metadata": {},
   "outputs": [],
   "source": [
    "class Map:\n",
    "    \"\"\"A map with plotting and routing capabilities.\"\"\"\n",
    "\n",
    "    def __init__(self, name, center, start, end, places, initial_zoom=12):\n",
    "        \"\"\"Create a new map instance.\n",
    "\n",
    "        Args:\n",
    "            name (str): name of the map\n",
    "            center (float, float): coordinates of the map's center\n",
    "            start (Place): start of the tour\n",
    "            end (Place): end of the tour\n",
    "            places (list of Places): the places to be visitied\n",
    "        \"\"\"\n",
    "        ...  # store name, center, start, and end as implementation details\n",
    "        ...\n",
    "        ...\n",
    "        ...\n",
    "        self._map = folium.Map(...)\n",
    "\n",
    "        ...  # add start as a green marker using the add_marker() method below\n",
    "        ...  # add end as a red marker using the add_marker() method below\n",
    "        for place in places:\n",
    "            ...  # add place as a marker using the add_marker() method below\n",
    "\n",
    "    def __repr__(self):\n",
    "        return \"<Map of {}>\".format(self._name)\n",
    "\n",
    "    def show(self):\n",
    "        \"\"\"Return a folium.Map representation of the map.\"\"\"\n",
    "        ...\n",
    "\n",
    "    def add_marker(self, marker):\n",
    "        \"\"\"Add a marker to the map.\n",
    "\n",
    "        Args:\n",
    "            marker (folium.Marker): marker to be put on the map\n",
    "        \"\"\"\n",
    "        ...  # call the add_to() method on a folium.Marker instance with the hidden _map variable\n",
    "        return ..."
   ]
  },
  {
   "cell_type": "markdown",
   "metadata": {},
   "source": [
    "Let's put all the sights, the two airports, and three more places, the Bundeskanzleramt, the Olympic Stadium, and the East Side Gallery, on the map. Implementing method chaining everywhere creates a nice and compact \"language\"."
   ]
  },
  {
   "cell_type": "code",
   "execution_count": null,
   "metadata": {},
   "outputs": [],
   "source": [
    "berlin = (\n",
    "    Map(\"Berlin\", center=(52.5015154, 13.4066838),\n",
    "        start=Place(arrival).sync_from_google(api),\n",
    "        end=Place(departure).sync_from_google(api),\n",
    "        places=places, initial_zoom=10)\n",
    "    .add_marker(Place(\"Bundeskanzleramt, Willy-Brandt-Straße, Berlin\")\n",
    "                .sync_from_google(api).as_marker(color=\"orange\"))\n",
    "    .add_marker(Place(\"Olympiastadion, Berlin\")\n",
    "                .sync_from_google(api).as_marker(color=\"orange\"))\n",
    "    .add_marker(Place(\"East Side Gallery, Berlin\")\n",
    "                .sync_from_google(api).as_marker(color=\"orange\"))\n",
    ")"
   ]
  },
  {
   "cell_type": "code",
   "execution_count": null,
   "metadata": {},
   "outputs": [],
   "source": [
    "berlin"
   ]
  },
  {
   "cell_type": "code",
   "execution_count": null,
   "metadata": {},
   "outputs": [],
   "source": [
    "berlin.show()"
   ]
  },
  {
   "cell_type": "markdown",
   "metadata": {},
   "source": [
    "## Distance Matrices\n",
    "\n",
    "Before we can find out the best order in which to visit all the sights, we need to find out the pairwise distances between all points. While Google also offers a [Directions API](https://developers.google.com/maps/documentation/directions/start) and a [Distance Matrix API](https://developers.google.com/maps/documentation/distance-matrix/start), we choose to calculate the air distances using the third-party library [geopy](https://github.com/geopy/geopy), whose documentation you find [here](https://geopy.readthedocs.io/en/stable/). *geopy* is a very popular library that we could also have used for geocoding with the Google Maps API."
   ]
  },
  {
   "cell_type": "markdown",
   "metadata": {},
   "source": [
    "Let's first install *geopy* with the `pip` command line utility."
   ]
  },
  {
   "cell_type": "code",
   "execution_count": null,
   "metadata": {},
   "outputs": [],
   "source": [
    "! pip install geopy"
   ]
  },
  {
   "cell_type": "markdown",
   "metadata": {},
   "source": [
    "We need *geopy* primarily for converting the $(lat,lon)$ coordinates into a $xy$-plane and take into account earth's curvature when calculating distances. This, however, is implemented \"under the hood\": *geopy* provides a `great_circle()` function to calculate the so-called [orthodromic distance](https://en.wikipedia.org/wiki/Great-circle_distance) between two places on a sphere."
   ]
  },
  {
   "cell_type": "code",
   "execution_count": null,
   "metadata": {},
   "outputs": [],
   "source": [
    "from geopy.distance import great_circle"
   ]
  },
  {
   "cell_type": "markdown",
   "metadata": {},
   "source": [
    "For quick reference, read the docstring."
   ]
  },
  {
   "cell_type": "code",
   "execution_count": null,
   "metadata": {},
   "outputs": [],
   "source": [
    "great_circle?"
   ]
  },
  {
   "cell_type": "markdown",
   "metadata": {},
   "source": [
    "For example, let's calculate the air distance between the two airports. `great_circle()` returns a custom `Distance` object that can be accessed as a `float` with either the `km` or the `meters` property."
   ]
  },
  {
   "cell_type": "code",
   "execution_count": null,
   "metadata": {},
   "outputs": [],
   "source": [
    "tegel = Place(arrival).sync_from_google(api)\n",
    "schoenefeld = Place(departure).sync_from_google(api)"
   ]
  },
  {
   "cell_type": "code",
   "execution_count": null,
   "metadata": {},
   "outputs": [],
   "source": [
    "great_circle(tegel.location, schoenefeld.location)"
   ]
  },
  {
   "cell_type": "code",
   "execution_count": null,
   "metadata": {},
   "outputs": [],
   "source": [
    "great_circle(tegel.location, schoenefeld.location).km"
   ]
  },
  {
   "cell_type": "code",
   "execution_count": null,
   "metadata": {},
   "outputs": [],
   "source": [
    "great_circle(tegel.location, schoenefeld.location).meters"
   ]
  },
  {
   "cell_type": "markdown",
   "metadata": {},
   "source": [
    "### The Place Class revisited: Distance to another Place\n",
    "\n",
    "We add a `distance_to()` instance method on the `Place` class that takes a `other` argument (that must also be a `Place` instance) and returns the distance in meters (and as an integer)."
   ]
  },
  {
   "cell_type": "code",
   "execution_count": null,
   "metadata": {},
   "outputs": [],
   "source": [
    "class Place:\n",
    "    \"\"\"A place with a connection to a Google Maps API search result.\"\"\"\n",
    "\n",
    "    def __init__(self, street_address):\n",
    "        ...\n",
    "\n",
    "    def __repr__(self):\n",
    "        ...\n",
    "\n",
    "    def sync_from_google(self, client):\n",
    "        ...\n",
    "\n",
    "    @property\n",
    "    def location(self):\n",
    "        ...\n",
    "\n",
    "    @classmethod\n",
    "    def from_addresses(cls, addresses, client=None):\n",
    "        ...\n",
    "\n",
    "    def as_marker(self, color=\"blue\"):\n",
    "        ...\n",
    "\n",
    "    def distance_to(self, other):\n",
    "        \"\"\"Calculate the distance in meters.\n",
    "\n",
    "        Args:\n",
    "            other (Place): the other place to calculate the distance to\n",
    "        Returns:\n",
    "            int\n",
    "        Raises:\n",
    "            RuntimeError: if one of the places is not yet synchronized with Google\n",
    "        \"\"\"\n",
    "        if not self.place_id or not other.place_id:\n",
    "            raise RuntimeError(\"Must synchronize both places with Google first!\")\n",
    "        return int(...)  # use great_circle() and return the .meters attribute as an integer"
   ]
  },
  {
   "cell_type": "markdown",
   "metadata": {},
   "source": [
    "Let's try out the new functionality."
   ]
  },
  {
   "cell_type": "code",
   "execution_count": null,
   "metadata": {},
   "outputs": [],
   "source": [
    "tegel = Place(arrival).sync_from_google(api)\n",
    "schoenefeld = Place(departure).sync_from_google(api)"
   ]
  },
  {
   "cell_type": "markdown",
   "metadata": {},
   "source": [
    "If done right, object-oriented code reads almost like plain English."
   ]
  },
  {
   "cell_type": "code",
   "execution_count": null,
   "metadata": {},
   "outputs": [],
   "source": [
    "tegel.distance_to(schoenefeld)"
   ]
  },
  {
   "cell_type": "markdown",
   "metadata": {},
   "source": [
    "Again, to make use of the new method, we need to re-instantiate the `Place` instances again."
   ]
  },
  {
   "cell_type": "code",
   "execution_count": null,
   "metadata": {},
   "outputs": [],
   "source": [
    "places = Place.from_addresses(sights, client=api)"
   ]
  },
  {
   "cell_type": "markdown",
   "metadata": {},
   "source": [
    "### The Map Class revisited: Pairwise Distances\n",
    "\n",
    "Now we add a read-only `distances` property on our `Map` class. As we are working with air distances, we observe that these are symmetric which reduces the number of distances we need to calculate. We use the [combinations()](https://docs.python.org/3/library/itertools.html#itertools.combinations) function in the [itertools](https://docs.python.org/3/library/itertools.html) module in the Standard Library that gives us all possible $r$-tuples in a list-like object where $r$ is just $2$ in our case. `distances` takes the hidden `_start`, `_end`, and `_places` attributes and returns a dictionary with keys consisting of all pairs of places and their distances in meters as the corresponding values. As this operation is rather costly and we built the `Map` class to be immutable anyways, we \"cache\" the calculated distances the first time we calculate them into a hidden instance attribute `_distances` (this must also be initialized in the `__init__()` method)."
   ]
  },
  {
   "cell_type": "code",
   "execution_count": null,
   "metadata": {},
   "outputs": [],
   "source": [
    "from itertools import combinations"
   ]
  },
  {
   "cell_type": "markdown",
   "metadata": {},
   "source": [
    "Let's look at an easy example of using `combinations()` to understand what it does. It gives us all the $2$-tuples from a list of four `numbers` disregarding the order of the tuples' elements."
   ]
  },
  {
   "cell_type": "code",
   "execution_count": null,
   "metadata": {},
   "outputs": [],
   "source": [
    "numbers = [1, 2, 3, 4]\n",
    "\n",
    "for x, y in combinations(numbers, 2):\n",
    "    print(x, y)"
   ]
  },
  {
   "cell_type": "code",
   "execution_count": null,
   "metadata": {},
   "outputs": [],
   "source": [
    "class Map:\n",
    "    \"\"\"A map with plotting and routing capabilities.\"\"\"\n",
    "\n",
    "    def __init__(self, name, center, start, end, places, initial_zoom=12):\n",
    "        ...  # also initialize the cached _distances variable\n",
    "\n",
    "    def __repr__(self):\n",
    "        ...\n",
    "\n",
    "    def show(self):\n",
    "        ...\n",
    "\n",
    "    def add_marker(self, marker):\n",
    "        ...\n",
    "\n",
    "    @property\n",
    "    def distances(self):\n",
    "        \"\"\"Return a dictionary with the pairwise distances of all places.\n",
    "\n",
    "        Implementation note: The result of the calculations are cached.\n",
    "        \"\"\"\n",
    "        if not self._distances:\n",
    "            distances = ...  # initialize a data structure to collect the mappings\n",
    "                             # from tuples of Places to their respective distances\n",
    "            all_pairs = combinations([...] + self._places, ...)  # complete the list out of which\n",
    "                                                                 # the pairs are drawn\n",
    "            for first, second in all_pairs:\n",
    "                distance = ...  # calculate the distance from first to second\n",
    "                distances[...] = distance  # store the distance both from first to second\n",
    "                distances[...] = distance  # but also from second to first\n",
    "            self._distances = distances\n",
    "        return self._distances"
   ]
  },
  {
   "cell_type": "markdown",
   "metadata": {},
   "source": [
    "We pretty print the total distance matrix."
   ]
  },
  {
   "cell_type": "code",
   "execution_count": null,
   "metadata": {},
   "outputs": [],
   "source": [
    "berlin = Map(\n",
    "    \"Berlin\", center=(52.5015154, 13.4066838),\n",
    "    start=Place(arrival).sync_from_google(api),\n",
    "    end=Place(departure).sync_from_google(api),\n",
    "    places=places, initial_zoom=10\n",
    ")"
   ]
  },
  {
   "cell_type": "code",
   "execution_count": null,
   "metadata": {},
   "outputs": [],
   "source": [
    "pprint(berlin.distances)"
   ]
  },
  {
   "cell_type": "markdown",
   "metadata": {},
   "source": [
    "How can we be sure the matrix contains all possible pairs? As we have $9$ sights on our list plus the start and the end points of the tour, we conclude that there must be $11 * 10 = 110$ distances excluding the $0$ distances of a place to itself that are not in the distance matrix."
   ]
  },
  {
   "cell_type": "code",
   "execution_count": null,
   "metadata": {},
   "outputs": [],
   "source": [
    "(len(places) + 2) * ((len(places) + 2) - 1)"
   ]
  },
  {
   "cell_type": "code",
   "execution_count": null,
   "metadata": {},
   "outputs": [],
   "source": [
    "len(berlin.distances)"
   ]
  },
  {
   "cell_type": "markdown",
   "metadata": {},
   "source": [
    "## Route Optimization\n",
    "\n",
    "Let us find the cost minimal order of travelling from one airport to the other and traversing all the sights.\n",
    "\n",
    "This problem can be expressed as finding the shortest so-called [Hamiltonian path](https://en.wikipedia.org/wiki/Hamiltonian_path) from `start` to `end`, i.e., a path that visits each intermediate node exactly once. With the \"trick\" of assuming the distance of travelling from the `end` to the `start` to be $0$ and thereby effectively merging the two airports into a single node, the problem can be transformed into a so-called [travelling salesman problem](https://en.wikipedia.org/wiki/Travelling_salesman_problem) (TSP).\n",
    "\n",
    "The TSP is a very hard problem to solve but also very well studied in the literature. Assuming symmetric distances, a TSP with $n$ nodes has $\\frac{(n-1)!}{2}$ possible routes. $(n-1)$ because any node can be the start/end and divided by $2$ as the problem is symmetric.\n",
    "\n",
    "Starting with about $n = 20$, the TSP is almost impossible to solve exactly in a reasonable amount of time. Luckily, we do not have that many sights to visit, and so we can use a [brute force](https://en.wikipedia.org/wiki/Brute-force_search) approach and just iterate over all possible routes to find the shortest."
   ]
  },
  {
   "cell_type": "markdown",
   "metadata": {},
   "source": [
    "In our case, we \"only\" need to try out $181440$ possible routes (by treating the two airports as one node, $n$ becomes $10$)."
   ]
  },
  {
   "cell_type": "code",
   "execution_count": null,
   "metadata": {},
   "outputs": [],
   "source": [
    "from math import factorial"
   ]
  },
  {
   "cell_type": "code",
   "execution_count": null,
   "metadata": {},
   "outputs": [],
   "source": [
    "factorial(len(places) + 1 - 1) // 2"
   ]
  },
  {
   "cell_type": "markdown",
   "metadata": {},
   "source": [
    "Analyzing the problem a bit further, we realize that all we need is a list of permutations of the sights as the two airports will always be the first and last location.\n",
    "\n",
    "The [permutations()](https://docs.python.org/3/library/itertools.html#itertools.permutations) function in the [itertools](https://docs.python.org/3/library/itertools.html) module in the Standard Library helps us building the exhaustive search. Let's see a small example to understand how it works."
   ]
  },
  {
   "cell_type": "code",
   "execution_count": null,
   "metadata": {},
   "outputs": [],
   "source": [
    "from itertools import permutations"
   ]
  },
  {
   "cell_type": "code",
   "execution_count": null,
   "metadata": {},
   "outputs": [],
   "source": [
    "numbers = [1, 2, 3]\n",
    "\n",
    "for permutation in permutations(numbers):\n",
    "    print(permutation)"
   ]
  },
  {
   "cell_type": "markdown",
   "metadata": {},
   "source": [
    "However, if we just use this approach, we are actually trying out redundant routes. For example, transferred to our case, the tuples `(1, 2, 3)` and `(3, 2, 1)` represent the same route as the distances are symmetric and the traveller could be going in either direction. To obtain the unique routes, we use a `if` condition in a \"tricky\" way by only accepting routes where the first node has a smaller value than the last."
   ]
  },
  {
   "cell_type": "code",
   "execution_count": null,
   "metadata": {},
   "outputs": [],
   "source": [
    "for permutation in permutations(numbers):\n",
    "    if permutation[0] < permutation[-1]:\n",
    "        print(permutation)"
   ]
  },
  {
   "cell_type": "markdown",
   "metadata": {},
   "source": [
    "In order to compare `Place` instances as numbers, we would actually have to implement the `__eq__()` magic method (and some others). Otherwise, we get a `TypeError` like this."
   ]
  },
  {
   "cell_type": "code",
   "execution_count": null,
   "metadata": {},
   "outputs": [],
   "source": [
    "Place(arrival) < Place(departure)"
   ]
  },
  {
   "cell_type": "markdown",
   "metadata": {},
   "source": [
    "A quick and dirty solution is to use the [hash()](https://docs.python.org/3/library/functions.html#hash) built-in function that converts any object into a static integer value primarily for usage as a key in a dictionary."
   ]
  },
  {
   "cell_type": "code",
   "execution_count": null,
   "metadata": {},
   "outputs": [],
   "source": [
    "hash(Place(arrival)) < hash(Place(departure))"
   ]
  },
  {
   "cell_type": "markdown",
   "metadata": {},
   "source": [
    "As the generator expression below shows, combining the `permutations()` function with an `if` check results in the correct number of routes to be iterated over."
   ]
  },
  {
   "cell_type": "code",
   "execution_count": null,
   "metadata": {},
   "outputs": [],
   "source": [
    "sum(1 for route in permutations(places) if hash(route[0]) < hash(route[-1]))"
   ]
  },
  {
   "cell_type": "markdown",
   "metadata": {},
   "source": [
    "To implement our brute force algorithm, we split the logic into two methods.\n",
    "\n",
    "First, we create an instance method `evaluate()` that takes a `route` argument that is a tuple of `Place` instances and returns the total distance of the route. Observe that this method uses the property `distances` repeatedly which is why we built in caching above.\n",
    "\n",
    "Second, we create an instance method `brute_force()` that needs no arguments and iterates over all possible routes to find the shortest. Note that although we assumed the `start` and `end` nodes to be the same node when we reduced the case to a TSP, we need to treat these in a special way as all the sights are away by different distances from the two airports of course. We achieve this by deriving two routes out of every permutation of intermediate nodes, one for each direction we could take."
   ]
  },
  {
   "cell_type": "markdown",
   "metadata": {},
   "source": [
    "### The Map Class revisited: Travelling Salesman Problem"
   ]
  },
  {
   "cell_type": "code",
   "execution_count": null,
   "metadata": {},
   "outputs": [],
   "source": [
    "class Map:\n",
    "    \"\"\"A map with plotting and routing capabilities.\"\"\"\n",
    "\n",
    "    def __init__(self, name, center, start, end, places, initial_zoom=12):\n",
    "        ...\n",
    "\n",
    "    def __repr__(self):\n",
    "        ...\n",
    "\n",
    "    def show(self):\n",
    "        ...\n",
    "\n",
    "    def add_marker(self, marker):\n",
    "        ...\n",
    "\n",
    "    @property\n",
    "    def distances(self):\n",
    "        ...\n",
    "\n",
    "    def evaluate(self, route):\n",
    "        \"\"\"Calculate the total distance of a route.\n",
    "\n",
    "        Args:\n",
    "            route (tuple of Places): the ordered nodes of a tour\n",
    "        Returns:\n",
    "            int\n",
    "        \"\"\"\n",
    "        cost = ...  # Initialize to a start value that makes sense\n",
    "        # Iterate over all pairs of nodes\n",
    "        origin = ...  # use the first element as the first origin\n",
    "        for destination in ...:  # iterate over the remaining tuple elements\n",
    "            cost += self.distances[...]  # look up the distance for the OD pair\n",
    "            origin = ...  # update the origin before the next iteration\n",
    "        return cost\n",
    "\n",
    "    def brute_force(self):\n",
    "        \"\"\"Calculate the shortest route by brute force.\"\"\"\n",
    "        # Assume a very high cost to start with\n",
    "        min_cost = ...  # Initialize to a start value that makes sense\n",
    "        # Find all permutations of intermediate nodes to visit\n",
    "        for permutation in (x for x in permutations(...)  # iterate over all permutations\n",
    "                              if hash(...) < hash(...)):  # of intermediate nodes as in the\n",
    "                                                          # above generator expression\n",
    "            # Travel through the intermediate nodes in both directions\n",
    "            for route in (permutation, permutation[::-1]):\n",
    "                # Check if a route is cheaper than all routes seen before\n",
    "                route = (...,) + route + (...,)  # extend the route tuple to\n",
    "                                                 # include the start and end\n",
    "                cost = ...  # calculate the cost for the route\n",
    "                if cost < min_cost:\n",
    "                    min_cost = ...  # update the minimal cost and\n",
    "                    best_route = ...  # best route seen so far\n",
    "        # Plot the route on the map\n",
    "        folium.PolyLine(\n",
    "            [x.location for x in best_route],\n",
    "            color=\"orange\", weight=3, opacity=1\n",
    "        ).add_to(self._map)\n",
    "        # Enable method chaining\n",
    "        return self"
   ]
  },
  {
   "cell_type": "markdown",
   "metadata": {},
   "source": [
    "Let's finally find a route for our tourist."
   ]
  },
  {
   "cell_type": "code",
   "execution_count": null,
   "metadata": {},
   "outputs": [],
   "source": [
    "berlin = Map(\n",
    "    \"Berlin\", center=(52.4915154, 13.4066838),\n",
    "    start=Place(arrival).sync_from_google(api),\n",
    "    end=Place(departure).sync_from_google(api),\n",
    "    places=places, initial_zoom=12\n",
    ")"
   ]
  },
  {
   "cell_type": "code",
   "execution_count": null,
   "metadata": {},
   "outputs": [],
   "source": [
    "berlin.brute_force().show()"
   ]
  }
 ],
 "metadata": {
  "kernelspec": {
   "display_name": "Python 3",
   "language": "python",
   "name": "python3"
  },
  "language_info": {
   "codemirror_mode": {
    "name": "ipython",
    "version": 3
   },
   "file_extension": ".py",
   "mimetype": "text/x-python",
   "name": "python",
   "nbconvert_exporter": "python",
   "pygments_lexer": "ipython3",
   "version": "3.6.6"
  }
 },
 "nbformat": 4,
 "nbformat_minor": 2
}
